{
 "cells": [
  {
   "cell_type": "code",
   "execution_count": 2,
   "id": "82c34d2a-1ebf-42c6-993b-7b7996e30576",
   "metadata": {},
   "outputs": [
    {
     "name": "stdout",
     "output_type": "stream",
     "text": [
      "Celda 1: Configuración completada.\n"
     ]
    }
   ],
   "source": [
    "import netCDF4 as nc\n",
    "import numpy as np\n",
    "import logging\n",
    "\n",
    "# Configuración básica de logging\n",
    "logging.basicConfig(level=logging.INFO, format='%(asctime)s - %(levelname)s - %(message)s')\n",
    "\n",
    "# --- Constantes (las mismas que hemos usado) ---\n",
    "target_test_file_full_path = \"/home/f-caballero/UM/TIF3/convLSTM-project/convLSTM-Model/netCDF_samples/netCDF_Big_sample/netcdf_500x500x18/20100102/201001021/221837.nc\"\n",
    "CLIP_PHYSICAL_MIN_DBZ = -29.0\n",
    "CLIP_PHYSICAL_MAX_DBZ = 65.0\n",
    "OUTPUT_NC_SCALE_FACTOR = np.float32(0.5)\n",
    "OUTPUT_NC_ADD_OFFSET = np.float32(33.5)\n",
    "OUTPUT_NC_FILL_BYTE = np.int8(-128)\n",
    "PHYSICAL_FILL_VALUE = (float(OUTPUT_NC_FILL_BYTE) * OUTPUT_NC_SCALE_FACTOR) + OUTPUT_NC_ADD_OFFSET\n",
    "\n",
    "print(\"Celda 1: Configuración completada.\")"
   ]
  },
  {
   "cell_type": "code",
   "execution_count": 3,
   "id": "595c9cfb-0ce6-48bf-9902-c34c6b44ed06",
   "metadata": {},
   "outputs": [
    {
     "name": "stdout",
     "output_type": "stream",
     "text": [
      "--- ESTADO 1: Después de Cargar y Desempaquetar ---\n",
      "Forma del array: (18, 500, 500)\n",
      "Tipo de dato: float32\n",
      "Número de NaNs: 0\n",
      "Mínimo (ignorando NaNs): 19.0\n",
      "Máximo (ignorando NaNs): 61.75\n"
     ]
    }
   ],
   "source": [
    "try:\n",
    "    with nc.Dataset(target_test_file_full_path, 'r') as ds_in:\n",
    "        dbz_var_in = ds_in.variables['DBZ']\n",
    "        data_raw = dbz_var_in[:]\n",
    "        scale_in = getattr(dbz_var_in, 'scale_factor', 1.0)\n",
    "        offset_in = getattr(dbz_var_in, 'add_offset', 0.0)\n",
    "        fill_value_packed_in = getattr(dbz_var_in, '_FillValue', None)\n",
    "\n",
    "        dbz_physical = data_raw.astype(np.float32) * scale_in + offset_in\n",
    "        if fill_value_packed_in is not None:\n",
    "            dbz_physical[data_raw == fill_value_packed_in] = np.nan\n",
    "        \n",
    "        dbz_3d = dbz_physical[0]\n",
    "\n",
    "        print(\"--- ESTADO 1: Después de Cargar y Desempaquetar ---\")\n",
    "        print(f\"Forma del array: {dbz_3d.shape}\")\n",
    "        print(f\"Tipo de dato: {dbz_3d.dtype}\")\n",
    "        print(f\"Número de NaNs: {np.isnan(dbz_3d).sum()}\")\n",
    "        # Usamos un try/except por si el array estuviera inesperadamente vacío de números\n",
    "        try:\n",
    "            print(f\"Mínimo (ignorando NaNs): {np.nanmin(dbz_3d)}\")\n",
    "            print(f\"Máximo (ignorando NaNs): {np.nanmax(dbz_3d)}\")\n",
    "        except ValueError:\n",
    "            print(\"El array no contiene valores numéricos.\")\n",
    "\n",
    "except Exception as e:\n",
    "    print(f\"Error en la Celda 2: {e}\")"
   ]
  },
  {
   "cell_type": "code",
   "execution_count": 4,
   "id": "5330dbb8-6a3e-4f05-8a2a-e797f7afe8e9",
   "metadata": {},
   "outputs": [
    {
     "name": "stdout",
     "output_type": "stream",
     "text": [
      "--- ESTADO 2: Después de Limpiar 0s y valores bajos ---\n",
      "Se encontraron y eliminaron 0 ceros.\n",
      "Se encontraron y eliminaron 4454368 valores por debajo de -29.0 dBZ.\n",
      "Número de NaNs ahora: 0\n",
      "Mínimo (ignorando NaNs): 19.0\n",
      "Máximo (ignorando NaNs): 61.75\n"
     ]
    }
   ],
   "source": [
    "# Hacemos una copia para no modificar el original de la celda anterior\n",
    "dbz_cleaned = dbz_3d.copy()\n",
    "\n",
    "# Limpiamos ceros\n",
    "are_close_to_zero = np.isclose(dbz_cleaned, 0.0)\n",
    "num_zeros = np.count_nonzero(are_close_to_zero)\n",
    "dbz_cleaned[are_close_to_zero] = np.nan\n",
    "\n",
    "# Limpiamos valores bajos\n",
    "below_min = dbz_cleaned < CLIP_PHYSICAL_MIN_DBZ\n",
    "num_below_min = np.count_nonzero(below_min)\n",
    "dbz_cleaned[below_min] = np.nan\n",
    "\n",
    "print(\"--- ESTADO 2: Después de Limpiar 0s y valores bajos ---\")\n",
    "print(f\"Se encontraron y eliminaron {num_zeros} ceros.\")\n",
    "print(f\"Se encontraron y eliminaron {num_below_min} valores por debajo de {CLIP_PHYSICAL_MIN_DBZ} dBZ.\")\n",
    "print(f\"Número de NaNs ahora: {np.isnan(dbz_cleaned).sum()}\")\n",
    "try:\n",
    "    print(f\"Mínimo (ignorando NaNs): {np.nanmin(dbz_cleaned)}\")\n",
    "    print(f\"Máximo (ignorando NaNs): {np.nanmax(dbz_cleaned)}\")\n",
    "except ValueError:\n",
    "    print(\"El array no contiene valores numéricos.\")"
   ]
  },
  {
   "cell_type": "code",
   "execution_count": 5,
   "id": "7c0cc20c-5da6-4d9b-8492-89979489800c",
   "metadata": {},
   "outputs": [
    {
     "name": "stdout",
     "output_type": "stream",
     "text": [
      "--- ESTADO 3: Después de np.clip ---\n",
      "Número de NaNs: 0\n",
      "Mínimo (ignorando NaNs): 19.0\n",
      "Máximo (ignorando NaNs): 61.75\n"
     ]
    }
   ],
   "source": [
    "dbz_clipped = np.clip(dbz_cleaned, CLIP_PHYSICAL_MIN_DBZ, CLIP_PHYSICAL_MAX_DBZ)\n",
    "\n",
    "print(\"--- ESTADO 3: Después de np.clip ---\")\n",
    "print(f\"Número de NaNs: {np.isnan(dbz_clipped).sum()}\")\n",
    "try:\n",
    "    print(f\"Mínimo (ignorando NaNs): {np.nanmin(dbz_clipped)}\")\n",
    "    print(f\"Máximo (ignorando NaNs): {np.nanmax(dbz_clipped)}\")\n",
    "except ValueError:\n",
    "    print(\"El array no contiene valores numéricos.\")"
   ]
  },
  {
   "cell_type": "code",
   "execution_count": 6,
   "id": "dc3301fd-ea34-45ea-9804-fa1ad6ce973a",
   "metadata": {},
   "outputs": [
    {
     "name": "stdout",
     "output_type": "stream",
     "text": [
      "--- ESTADO 4: Después de np.where (listo para empaquetar) ---\n",
      "Este array ya NO debería tener NaNs.\n",
      "Número de NaNs: 0\n",
      "Mínimo (valor real): -30.5\n",
      "Máximo (valor real): 61.75\n"
     ]
    }
   ],
   "source": [
    "dbz_for_packing = np.where(np.isnan(dbz_clipped), PHYSICAL_FILL_VALUE, dbz_clipped)\n",
    "\n",
    "print(\"--- ESTADO 4: Después de np.where (listo para empaquetar) ---\")\n",
    "print(\"Este array ya NO debería tener NaNs.\")\n",
    "print(f\"Número de NaNs: {np.isnan(dbz_for_packing).sum()}\")\n",
    "print(f\"Mínimo (valor real): {np.min(dbz_for_packing)}\")\n",
    "print(f\"Máximo (valor real): {np.max(dbz_for_packing)}\")"
   ]
  },
  {
   "cell_type": "code",
   "execution_count": 7,
   "id": "5efd17f7-164d-4efa-bab3-70a88c957c46",
   "metadata": {},
   "outputs": [
    {
     "name": "stdout",
     "output_type": "stream",
     "text": [
      "--- ESTADO 5: Después del cálculo de empaquetado ---\n",
      "Estos son los valores de byte que se escribirían en el archivo.\n",
      "Tipo de dato: int8\n",
      "Mínimo (valor de byte): -128\n",
      "Máximo (valor de byte): 56\n"
     ]
    },
    {
     "ename": "ValueError",
     "evalue": "object too deep for desired array",
     "output_type": "error",
     "traceback": [
      "\u001b[31m---------------------------------------------------------------------------\u001b[39m",
      "\u001b[31mValueError\u001b[39m                                Traceback (most recent call last)",
      "\u001b[36mCell\u001b[39m\u001b[36m \u001b[39m\u001b[32mIn[7]\u001b[39m\u001b[32m, line 9\u001b[39m\n\u001b[32m      7\u001b[39m \u001b[38;5;28mprint\u001b[39m(\u001b[33mf\u001b[39m\u001b[33m\"\u001b[39m\u001b[33mMínimo (valor de byte): \u001b[39m\u001b[38;5;132;01m{\u001b[39;00mnp.min(dbz_packed_byte)\u001b[38;5;132;01m}\u001b[39;00m\u001b[33m\"\u001b[39m)\n\u001b[32m      8\u001b[39m \u001b[38;5;28mprint\u001b[39m(\u001b[33mf\u001b[39m\u001b[33m\"\u001b[39m\u001b[33mMáximo (valor de byte): \u001b[39m\u001b[38;5;132;01m{\u001b[39;00mnp.max(dbz_packed_byte)\u001b[38;5;132;01m}\u001b[39;00m\u001b[33m\"\u001b[39m)\n\u001b[32m----> \u001b[39m\u001b[32m9\u001b[39m \u001b[38;5;28mprint\u001b[39m(\u001b[33mf\u001b[39m\u001b[33m\"\u001b[39m\u001b[33mValor más frecuente: \u001b[39m\u001b[38;5;132;01m{\u001b[39;00m\u001b[43mnp\u001b[49m\u001b[43m.\u001b[49m\u001b[43mbincount\u001b[49m\u001b[43m(\u001b[49m\u001b[43mdbz_packed_byte\u001b[49m\u001b[38;5;250;43m \u001b[39;49m\u001b[43m-\u001b[49m\u001b[38;5;250;43m \u001b[39;49m\u001b[43mnp\u001b[49m\u001b[43m.\u001b[49m\u001b[43mmin\u001b[49m\u001b[43m(\u001b[49m\u001b[43mdbz_packed_byte\u001b[49m\u001b[43m)\u001b[49m\u001b[43m)\u001b[49m.argmax()\u001b[38;5;250m \u001b[39m+\u001b[38;5;250m \u001b[39mnp.min(dbz_packed_byte)\u001b[38;5;132;01m}\u001b[39;00m\u001b[33m\"\u001b[39m)\n\u001b[32m     11\u001b[39m \u001b[38;5;66;03m# Imprimimos una pequeña muestra del centro del array empaquetado\u001b[39;00m\n\u001b[32m     12\u001b[39m \u001b[38;5;28mprint\u001b[39m(\u001b[33m\"\u001b[39m\u001b[33mMuestra de datos empaquetados (centro del array):\u001b[39m\u001b[33m\"\u001b[39m)\n",
      "\u001b[31mValueError\u001b[39m: object too deep for desired array"
     ]
    }
   ],
   "source": [
    "dbz_packed_byte = np.round((dbz_for_packing - OUTPUT_NC_ADD_OFFSET) / OUTPUT_NC_SCALE_FACTOR).astype(np.int8)\n",
    "# No aplicamos el clip de -127 a 127 aquí para ver los valores raw del cálculo\n",
    "\n",
    "print(\"--- ESTADO 5: Después del cálculo de empaquetado ---\")\n",
    "print(\"Estos son los valores de byte que se escribirían en el archivo.\")\n",
    "print(f\"Tipo de dato: {dbz_packed_byte.dtype}\")\n",
    "print(f\"Mínimo (valor de byte): {np.min(dbz_packed_byte)}\")\n",
    "print(f\"Máximo (valor de byte): {np.max(dbz_packed_byte)}\")\n",
    "print(f\"Valor más frecuente: {np.bincount(dbz_packed_byte - np.min(dbz_packed_byte)).argmax() + np.min(dbz_packed_byte)}\")\n",
    "\n",
    "# Imprimimos una pequeña muestra del centro del array empaquetado\n",
    "print(\"Muestra de datos empaquetados (centro del array):\")\n",
    "print(dbz_packed_byte[9, 250, 240:260])"
   ]
  },
  {
   "cell_type": "code",
   "execution_count": null,
   "id": "27898cbe-10a6-490c-8168-cad052bbfc73",
   "metadata": {},
   "outputs": [],
   "source": []
  }
 ],
 "metadata": {
  "kernelspec": {
   "display_name": "Python 3 (ipykernel)",
   "language": "python",
   "name": "python3"
  },
  "language_info": {
   "codemirror_mode": {
    "name": "ipython",
    "version": 3
   },
   "file_extension": ".py",
   "mimetype": "text/x-python",
   "name": "python",
   "nbconvert_exporter": "python",
   "pygments_lexer": "ipython3",
   "version": "3.12.9"
  }
 },
 "nbformat": 4,
 "nbformat_minor": 5
}
