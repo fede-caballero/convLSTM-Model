{
 "cells": [
  {
   "cell_type": "code",
   "execution_count": null,
   "metadata": {
    "vscode": {
     "languageId": "plaintext"
    }
   },
   "outputs": [],
   "source": [
    "# Instala PyTorch y sus componentes desde los canales oficiales de PyTorch y NVIDIA\n",
    "!conda install pytorch torchvision torchaudio pytorch-cuda=12.1 -c pytorch -c nvidia -y"
   ]
  },
  {
   "cell_type": "code",
   "execution_count": null,
   "metadata": {
    "vscode": {
     "languageId": "plaintext"
    }
   },
   "outputs": [],
   "source": [
    "# Instala netCDF4, matplotlib, pyproj y numpy desde el canal conda-forge\n",
    "!conda install -c conda-forge netcdf4 matplotlib pyproj numpy -y"
   ]
  },
  {
   "cell_type": "code",
   "execution_count": null,
   "metadata": {
    "vscode": {
     "languageId": "plaintext"
    }
   },
   "outputs": [],
   "source": [
    "!pip install gdown\n",
    "!cd /home\n",
    "# Muestra para obtener predicciones\n",
    "!gdown --id 1HzJu43opSzRZ4UPpFdybJG7ygQXLzEdW\n",
    "#!gdown --id 1OkGGU_tcOespytTVUPPh9NLxtG-HW75m\n",
    "\n",
    "# Modelo epoca 22 con ssim 0.3 y penalizacion 100\n",
    "!gdown --id 1s5s_TWHNGHyf2Apa5LqKrb5yLD_73BxG"
   ]
  },
  {
   "cell_type": "code",
   "execution_count": null,
   "metadata": {
    "vscode": {
     "languageId": "plaintext"
    }
   },
   "outputs": [],
   "source": [
    "!tar -xzvf /home/safe_box_sample_1.tar.gz"
   ]
  },
  {
   "cell_type": "code",
   "execution_count": null,
   "metadata": {
    "vscode": {
     "languageId": "plaintext"
    }
   },
   "outputs": [],
   "source": [
    "!python execute_model_jupyter.py --sequences_dir /home/sample_testing_model --model_path /home/model/best_convlstm_model.pth --output_dir /home/predictions\n"
   ]
  }
 ],
 "metadata": {
  "language_info": {
   "name": "python"
  }
 },
 "nbformat": 4,
 "nbformat_minor": 2
}
